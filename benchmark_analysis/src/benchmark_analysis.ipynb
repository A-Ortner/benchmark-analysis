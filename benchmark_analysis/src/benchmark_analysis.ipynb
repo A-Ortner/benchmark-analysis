{
 "cells": [
  {
   "cell_type": "code",
   "execution_count": 1,
   "id": "initial_id",
   "metadata": {
    "jupyter": {
     "is_executing": true
    }
   },
   "outputs": [],
   "source": [
    "import sqlglot\n",
    "import pandas as pd"
   ]
  },
  {
   "cell_type": "code",
   "execution_count": 2,
   "id": "8b4aa779-ef1e-4e17-9cec-abc9fcc25be5",
   "metadata": {},
   "outputs": [],
   "source": [
    "path = \"../queries/1a.sql\""
   ]
  },
  {
   "cell_type": "code",
   "execution_count": 3,
   "id": "f418d003-285d-47ce-b284-a6a614297cf6",
   "metadata": {},
   "outputs": [],
   "source": [
    "path = \"../../../spark-eval/benchmark/job/1a.sql\""
   ]
  },
  {
   "cell_type": "code",
   "execution_count": 4,
   "id": "1f788a07-3d75-48a3-892a-9ba984c8ef48",
   "metadata": {},
   "outputs": [],
   "source": [
    "path_folder = \"../../../spark-eval/benchmark/job/\""
   ]
  },
  {
   "cell_type": "code",
   "execution_count": 11,
   "id": "aa5c981fdae4f7c",
   "metadata": {},
   "outputs": [
    {
     "name": "stdout",
     "output_type": "stream",
     "text": [
      "SELECT MIN(mc.note) AS production_note,\n",
      "       MIN(t.title) AS movie_title,\n",
      "       MIN(t.production_year) AS movie_year\n",
      "FROM company_type AS ct,\n",
      "     info_type AS it,\n",
      "     movie_companies AS mc,\n",
      "     movie_info_idx AS mi_idx,\n",
      "     title AS t\n",
      "WHERE ct.kind = 'production companies'\n",
      "  AND it.info = 'top 250 rank'\n",
      "  AND mc.note NOT LIKE '%(as Metro-Goldwyn-Mayer Pictures)%'\n",
      "  AND (mc.note LIKE '%(co-production)%'\n",
      "       OR mc.note LIKE '%(presents)%')\n",
      "  AND ct.id = mc.company_type_id\n",
      "  AND t.id = mc.movie_id\n",
      "  AND t.id = mi_idx.movie_id\n",
      "  AND mc.movie_id = mi_idx.movie_id\n",
      "  AND it.id = mi_idx.info_type_id;\n",
      "\n",
      "\n"
     ]
    }
   ],
   "source": [
    "with open(path, 'r') as f:\n",
    "    query = f.read()\n",
    "    print(query)"
   ]
  },
  {
   "cell_type": "code",
   "execution_count": 4,
   "id": "87d52171-6785-4839-9304-84f792ce6bfc",
   "metadata": {},
   "outputs": [
    {
     "name": "stdout",
     "output_type": "stream",
     "text": [
      "['company_type', 'info_type', 'movie_companies', 'movie_info_idx', 'title']\n"
     ]
    }
   ],
   "source": [
    "# Parse the SQL query\n",
    "parsed_query = sqlglot.parse_one(query)\n",
    "\n",
    "# Extract all tables from the query using sqlglot's expressions\n",
    "table_names = [table.name for table in parsed_query.find_all(sqlglot.expressions.Table)]\n",
    "\n",
    "# Print the extracted table names\n",
    "print(table_names)\n"
   ]
  },
  {
   "cell_type": "code",
   "execution_count": 5,
   "id": "10dcc37e-674a-4268-9683-c03bf590b402",
   "metadata": {},
   "outputs": [
    {
     "name": "stdout",
     "output_type": "stream",
     "text": [
      "Table: mc, Columns: ['note', 'movie_id', 'movie_id', 'company_type_id', 'note', 'note', 'note']\n",
      "Table: t, Columns: ['title', 'production_year', 'id', 'id']\n",
      "Table: it, Columns: ['id', 'info']\n",
      "Table: mi_idx, Columns: ['info_type_id', 'movie_id', 'movie_id']\n",
      "Table: ct, Columns: ['id', 'kind']\n"
     ]
    }
   ],
   "source": [
    "#List attribtues of table\n",
    "# Parse the SQL query\n",
    "parsed_query = sqlglot.parse_one(query)\n",
    "\n",
    "# Dictionary to hold table names and their corresponding attributes\n",
    "table_columns = {}\n",
    "\n",
    "# Loop through all columns in the SELECT clause\n",
    "for column in parsed_query.find_all(sqlglot.expressions.Column):\n",
    "    # Get the table and column names\n",
    "    table_name = column.table\n",
    "    column_name = column.name\n",
    "    \n",
    "    # Add the column name under the corresponding table name in the dictionary\n",
    "    if table_name:\n",
    "        if table_name not in table_columns:\n",
    "            table_columns[table_name] = []\n",
    "        table_columns[table_name].append(column_name)\n",
    "\n",
    "# Print the table names and their corresponding attributes\n",
    "for table, columns in table_columns.items():\n",
    "    print(f\"Table: {table}, Columns: {columns}\")\n"
   ]
  },
  {
   "cell_type": "code",
   "execution_count": 6,
   "id": "4e4285d4-3a71-4f4f-a00f-fe7bac97deee",
   "metadata": {},
   "outputs": [
    {
     "name": "stdout",
     "output_type": "stream",
     "text": [
      "Table: mc, Column in Aggregation: note\n",
      "Table: t, Column in Aggregation: title\n",
      "Table: t, Column in Aggregation: production_year\n"
     ]
    }
   ],
   "source": [
    "#Find Aggregate Attributes\n",
    "# Parse the SQL query\n",
    "parsed_query = sqlglot.parse_one(query)\n",
    "\n",
    "# List to hold the aggregation columns\n",
    "aggregated_columns = []\n",
    "\n",
    "# Loop through all aggregation functions in the query\n",
    "for agg_func in parsed_query.find_all(sqlglot.expressions.AggFunc):\n",
    "    # Get the column being aggregated\n",
    "    for column in agg_func.find_all(sqlglot.expressions.Column):\n",
    "        table_name = column.table\n",
    "        column_name = column.name\n",
    "        aggregated_columns.append((table_name, column_name))\n",
    "\n",
    "# Print the aggregated columns\n",
    "for table, column in aggregated_columns:\n",
    "    print(f\"Table: {table}, Column in Aggregation: {column}\")\n"
   ]
  },
  {
   "cell_type": "code",
   "execution_count": null,
   "id": "c2cd564b-5f8d-4c03-9a98-031e8e4787c5",
   "metadata": {},
   "outputs": [],
   "source": [
    "#Find GROUP Attributes\n",
    "\n",
    "# Parse the SQL query\n",
    "parsed_query = sqlglot.parse_one(query)\n",
    "\n",
    "# List to hold the aggregation columns\n",
    "grouped_columns = []\n",
    "\n",
    "# Loop through all grouped functions in the query\n",
    "for agg_func in parsed_query.find_all(sqlglot.expressions.Group):\n",
    "    # Get the column being grouped\n",
    "    for column in agg_func.find_all(sqlglot.expressions.Column):\n",
    "        table_name = column.table\n",
    "        column_name = column.name\n",
    "        grouped_columns.append((table_name, column_name))\n",
    "\n",
    "# Print the grouped columns\n",
    "for table, column in grouped_columns:\n",
    "    print(f\"Table: {table}, Column in Aggregation: {column}\")"
   ]
  },
  {
   "cell_type": "code",
   "execution_count": 24,
   "id": "378e520e-dd8f-44c3-96b0-64ce91c004d0",
   "metadata": {},
   "outputs": [
    {
     "name": "stdout",
     "output_type": "stream",
     "text": [
      "       qID c_tables c_groupingAttributes\n",
      "1  10a.sql        7                    0\n",
      "2  10b.sql        7                    0\n",
      "3  10c.sql        7                    0\n",
      "4  11a.sql        8                    0\n",
      "7.25\n",
      "0.0\n"
     ]
    }
   ],
   "source": [
    "def getNumberGroupAttributes(query):\n",
    "    parsed_query = sqlglot.parse_one(query)\n",
    "    count_group = 0\n",
    "    \n",
    "    for agg_func in parsed_query.find_all(sqlglot.expressions.Group):\n",
    "        # Get the column being grouped\n",
    "        for column in agg_func.find_all(sqlglot.expressions.Column):\n",
    "            count_group+=1\n",
    "\n",
    "    return count_group\n",
    "\n",
    "\n",
    "def getNumberTables(query):\n",
    "    parsed_query = sqlglot.parse_one(query)\n",
    "    table_names = [table.name for table in parsed_query.find_all(sqlglot.expressions.Table)]\n",
    "    \n",
    "    return len(table_names)\n",
    "\n",
    "\n",
    "\n",
    "import os\n",
    "query_info = {} #qID, #tables, #groupingAttributes\n",
    "idx = 0\n",
    "# Open one of the files,\n",
    "for data_file in sorted(os.listdir(path_folder)):\n",
    "    if data_file.endswith(\".sql\"):\n",
    "        q_path = path_folder + data_file\n",
    "        with open(q_path, 'r') as f:\n",
    "            query = f.read()\n",
    "           \n",
    "            num_tables = getNumberTables(query)\n",
    "            num_group = getNumberGroupAttributes(query)\n",
    "            query_info[idx] = (data_file, num_tables, num_group)\n",
    "    idx+=1\n",
    "    if(idx == 5): break\n",
    "\n",
    "df = pd.DataFrame(query_info, index=['qID', 'c_tables', 'c_groupingAttributes'])\n",
    "df.T #transpose matrix\n",
    "print(df)\n",
    "print(df[\"c_tables\"].mean())\n",
    "print(df[\"c_groupingAttributes\"].mean())"
   ]
  },
  {
   "cell_type": "code",
   "execution_count": null,
   "id": "cca4de02-8cf1-483a-9fca-0840cbb948a5",
   "metadata": {},
   "outputs": [],
   "source": []
  },
  {
   "cell_type": "code",
   "execution_count": null,
   "id": "9476c585-3737-4d10-a455-9b993fcc2bf0",
   "metadata": {},
   "outputs": [],
   "source": []
  }
 ],
 "metadata": {
  "kernelspec": {
   "display_name": "Python 3 (ipykernel)",
   "language": "python",
   "name": "python3"
  },
  "language_info": {
   "codemirror_mode": {
    "name": "ipython",
    "version": 3
   },
   "file_extension": ".py",
   "mimetype": "text/x-python",
   "name": "python",
   "nbconvert_exporter": "python",
   "pygments_lexer": "ipython3",
   "version": "3.10.12"
  }
 },
 "nbformat": 4,
 "nbformat_minor": 5
}
